{
  "nbformat": 4,
  "nbformat_minor": 0,
  "metadata": {
    "colab": {
      "provenance": [],
      "authorship_tag": "ABX9TyPMNiELENohnqE/wO8RMCop",
      "include_colab_link": true
    },
    "kernelspec": {
      "name": "python3",
      "display_name": "Python 3"
    },
    "language_info": {
      "name": "python"
    }
  },
  "cells": [
    {
      "cell_type": "markdown",
      "metadata": {
        "id": "view-in-github",
        "colab_type": "text"
      },
      "source": [
        "<a href=\"https://colab.research.google.com/github/yuhui-0611/SEED/blob/main/SEED_%EB%8D%B0%EC%9D%B4%ED%84%B0_%EB%8B%A4%EC%A4%91%EA%B3%B5%EC%84%A0%EC%84%B1.ipynb\" target=\"_parent\"><img src=\"https://colab.research.google.com/assets/colab-badge.svg\" alt=\"Open In Colab\"/></a>"
      ]
    },
    {
      "cell_type": "code",
      "source": [
        "from google.colab import drive\n",
        "drive.mount('/content/drive')"
      ],
      "metadata": {
        "colab": {
          "base_uri": "https://localhost:8080/"
        },
        "id": "4XGnitR2-Krs",
        "outputId": "e8d7a227-2c44-4960-95dd-eaf41901874a"
      },
      "execution_count": 1,
      "outputs": [
        {
          "output_type": "stream",
          "name": "stdout",
          "text": [
            "Mounted at /content/drive\n"
          ]
        }
      ]
    },
    {
      "cell_type": "code",
      "source": [
        "import pandas as pd\n",
        "import numpy as np"
      ],
      "metadata": {
        "id": "2n_xlhSk-QqC"
      },
      "execution_count": 2,
      "outputs": []
    },
    {
      "cell_type": "code",
      "source": [
        "df_7_1 = pd.read_csv('/content/drive/MyDrive/SEED/데이터/df_7_1.csv')\n",
        "df_7_2 = pd.read_csv('/content/drive/MyDrive/SEED/데이터/df_7_2.csv')\n",
        "df_8_1 = pd.read_csv('/content/drive/MyDrive/SEED/데이터/df_8_1.csv')\n",
        "df_8_2 = pd.read_csv('/content/drive/MyDrive/SEED/데이터/df_8_2.csv')"
      ],
      "metadata": {
        "id": "ZL7JK47W-Tr7"
      },
      "execution_count": 3,
      "outputs": []
    },
    {
      "cell_type": "markdown",
      "source": [
        "# df 열 이름"
      ],
      "metadata": {
        "id": "yFf95pR8_XHh"
      }
    },
    {
      "cell_type": "code",
      "source": [
        "df_7_1.columns"
      ],
      "metadata": {
        "colab": {
          "base_uri": "https://localhost:8080/"
        },
        "id": "HixuDol3--xT",
        "outputId": "6afda925-355f-48c9-ca96-cb0e2feb9da3"
      },
      "execution_count": 4,
      "outputs": [
        {
          "output_type": "execute_result",
          "data": {
            "text/plain": [
              "Index(['year', 'i', 'j', 'RTA_ij', 'X_ij', 'STC_i', 'RCA_i', 'pi_i', 'x_j',\n",
              "       'ln_GDP_i', 'ln_GDP_j', 'ln_POP_i', 'ln_POP_j', 'ln_TARIFF_ij',\n",
              "       'ln_PATENTS_i', 'ln_RENEWABLE_i', 'ln_TARIFF_ij*ln_PATENTS_i',\n",
              "       'ln_TARIFF_ij*ln_RENEWABLE_i', 'ln_DIST_ij'],\n",
              "      dtype='object')"
            ]
          },
          "metadata": {},
          "execution_count": 4
        }
      ]
    },
    {
      "cell_type": "code",
      "source": [
        "df_7_2.columns"
      ],
      "metadata": {
        "colab": {
          "base_uri": "https://localhost:8080/"
        },
        "id": "x737JBAm_CZH",
        "outputId": "b3c24270-b6c9-4077-a319-fd95d126a606"
      },
      "execution_count": 5,
      "outputs": [
        {
          "output_type": "execute_result",
          "data": {
            "text/plain": [
              "Index(['year', 'i', 'j', 'RTA_ij', 'X_ij', 'STC_i', 'RCA_i', 'pi_i', 'x_j',\n",
              "       'ln_GDP_i', 'ln_GDP_j', 'ln_POP_i', 'ln_POP_j', 'ln_TARIFF_ij',\n",
              "       'ln_PATENTS_i', 'ln_RENEWABLE_i', 'ln_TARIFF_ij*ln_PATENTS_i',\n",
              "       'ln_TARIFF_ij*ln_RENEWABLE_i', 'ln_DIST_ij'],\n",
              "      dtype='object')"
            ]
          },
          "metadata": {},
          "execution_count": 5
        }
      ]
    },
    {
      "cell_type": "code",
      "source": [
        "df_8_1.columns"
      ],
      "metadata": {
        "colab": {
          "base_uri": "https://localhost:8080/"
        },
        "id": "eEaZEg2g_Diu",
        "outputId": "00be7da4-cfbc-406d-f25d-2125e58283bf"
      },
      "execution_count": 6,
      "outputs": [
        {
          "output_type": "execute_result",
          "data": {
            "text/plain": [
              "Index(['year', 'i', 'j', 'RTA_ij', 'X_ij', 'STC_i', 'RCA_i', 'pi_i', 'x_j',\n",
              "       'ln_GDP_i', 'ln_GDP_j', 'ln_POP_i', 'ln_POP_j', 'lnTARIFF_ij+CBAM_i_49',\n",
              "       'lnTARIFF_ij+CBAM_i_100', 'lnTARIFF_ij+CBAM_i_150', 'ln_PATENTS_i',\n",
              "       'ln_RENEWABLE_i', '(lnTARIFF_ij+CBAM_i_100)*ln_PATENTS_i',\n",
              "       '(lnTARIFF_ij+CBAM_i_150)*ln_RENEWABLE_i', 'ln_DIST_ij'],\n",
              "      dtype='object')"
            ]
          },
          "metadata": {},
          "execution_count": 6
        }
      ]
    },
    {
      "cell_type": "code",
      "source": [
        "df_8_2.columns"
      ],
      "metadata": {
        "colab": {
          "base_uri": "https://localhost:8080/"
        },
        "id": "Fkl8B2Rm_E62",
        "outputId": "553287a9-345e-42d7-a9b0-48fbc5e60dba"
      },
      "execution_count": 7,
      "outputs": [
        {
          "output_type": "execute_result",
          "data": {
            "text/plain": [
              "Index(['year', 'i', 'j', 'RTA_ij', 'X_ij', 'STC_i', 'RCA_i', 'pi_i', 'x_j',\n",
              "       'ln_GDP_i', 'ln_GDP_j', 'ln_POP_i', 'ln_POP_j', 'lnTARIFF_ij+CBAM_i_49',\n",
              "       'lnTARIFF_ij+CBAM_i_100', 'lnTARIFF_ij+CBAM_i_150', 'ln_PATENTS_i',\n",
              "       'ln_RENEWABLE_i', '(lnTARIFF_ij+CBAM_i_100)*ln_PATENTS_i',\n",
              "       '(lnTARIFF_ij+CBAM_i_150)*ln_RENEWABLE_i', 'ln_DIST_ij'],\n",
              "      dtype='object')"
            ]
          },
          "metadata": {},
          "execution_count": 7
        }
      ]
    },
    {
      "cell_type": "markdown",
      "source": [
        "# 결측치 재확인"
      ],
      "metadata": {
        "id": "AHOPCAqaW7U8"
      }
    },
    {
      "cell_type": "code",
      "source": [
        "df_7_1.isnull().sum()"
      ],
      "metadata": {
        "colab": {
          "base_uri": "https://localhost:8080/",
          "height": 679
        },
        "id": "CJ2NrlDUW-IF",
        "outputId": "6a27aa5a-2ed1-4aac-ac8d-04ef8f60a0fc"
      },
      "execution_count": 8,
      "outputs": [
        {
          "output_type": "execute_result",
          "data": {
            "text/plain": [
              "year                           0\n",
              "i                              0\n",
              "j                              0\n",
              "RTA_ij                         0\n",
              "X_ij                           0\n",
              "STC_i                          0\n",
              "RCA_i                          0\n",
              "pi_i                           0\n",
              "x_j                            0\n",
              "ln_GDP_i                       0\n",
              "ln_GDP_j                       0\n",
              "ln_POP_i                       0\n",
              "ln_POP_j                       0\n",
              "ln_TARIFF_ij                   0\n",
              "ln_PATENTS_i                   0\n",
              "ln_RENEWABLE_i                 0\n",
              "ln_TARIFF_ij*ln_PATENTS_i      0\n",
              "ln_TARIFF_ij*ln_RENEWABLE_i    0\n",
              "ln_DIST_ij                     0\n",
              "dtype: int64"
            ],
            "text/html": [
              "<div>\n",
              "<style scoped>\n",
              "    .dataframe tbody tr th:only-of-type {\n",
              "        vertical-align: middle;\n",
              "    }\n",
              "\n",
              "    .dataframe tbody tr th {\n",
              "        vertical-align: top;\n",
              "    }\n",
              "\n",
              "    .dataframe thead th {\n",
              "        text-align: right;\n",
              "    }\n",
              "</style>\n",
              "<table border=\"1\" class=\"dataframe\">\n",
              "  <thead>\n",
              "    <tr style=\"text-align: right;\">\n",
              "      <th></th>\n",
              "      <th>0</th>\n",
              "    </tr>\n",
              "  </thead>\n",
              "  <tbody>\n",
              "    <tr>\n",
              "      <th>year</th>\n",
              "      <td>0</td>\n",
              "    </tr>\n",
              "    <tr>\n",
              "      <th>i</th>\n",
              "      <td>0</td>\n",
              "    </tr>\n",
              "    <tr>\n",
              "      <th>j</th>\n",
              "      <td>0</td>\n",
              "    </tr>\n",
              "    <tr>\n",
              "      <th>RTA_ij</th>\n",
              "      <td>0</td>\n",
              "    </tr>\n",
              "    <tr>\n",
              "      <th>X_ij</th>\n",
              "      <td>0</td>\n",
              "    </tr>\n",
              "    <tr>\n",
              "      <th>STC_i</th>\n",
              "      <td>0</td>\n",
              "    </tr>\n",
              "    <tr>\n",
              "      <th>RCA_i</th>\n",
              "      <td>0</td>\n",
              "    </tr>\n",
              "    <tr>\n",
              "      <th>pi_i</th>\n",
              "      <td>0</td>\n",
              "    </tr>\n",
              "    <tr>\n",
              "      <th>x_j</th>\n",
              "      <td>0</td>\n",
              "    </tr>\n",
              "    <tr>\n",
              "      <th>ln_GDP_i</th>\n",
              "      <td>0</td>\n",
              "    </tr>\n",
              "    <tr>\n",
              "      <th>ln_GDP_j</th>\n",
              "      <td>0</td>\n",
              "    </tr>\n",
              "    <tr>\n",
              "      <th>ln_POP_i</th>\n",
              "      <td>0</td>\n",
              "    </tr>\n",
              "    <tr>\n",
              "      <th>ln_POP_j</th>\n",
              "      <td>0</td>\n",
              "    </tr>\n",
              "    <tr>\n",
              "      <th>ln_TARIFF_ij</th>\n",
              "      <td>0</td>\n",
              "    </tr>\n",
              "    <tr>\n",
              "      <th>ln_PATENTS_i</th>\n",
              "      <td>0</td>\n",
              "    </tr>\n",
              "    <tr>\n",
              "      <th>ln_RENEWABLE_i</th>\n",
              "      <td>0</td>\n",
              "    </tr>\n",
              "    <tr>\n",
              "      <th>ln_TARIFF_ij*ln_PATENTS_i</th>\n",
              "      <td>0</td>\n",
              "    </tr>\n",
              "    <tr>\n",
              "      <th>ln_TARIFF_ij*ln_RENEWABLE_i</th>\n",
              "      <td>0</td>\n",
              "    </tr>\n",
              "    <tr>\n",
              "      <th>ln_DIST_ij</th>\n",
              "      <td>0</td>\n",
              "    </tr>\n",
              "  </tbody>\n",
              "</table>\n",
              "</div><br><label><b>dtype:</b> int64</label>"
            ]
          },
          "metadata": {},
          "execution_count": 8
        }
      ]
    },
    {
      "cell_type": "code",
      "source": [
        "df_7_2.isnull().sum()"
      ],
      "metadata": {
        "colab": {
          "base_uri": "https://localhost:8080/",
          "height": 679
        },
        "id": "-AHEsYapXOqG",
        "outputId": "39d2f5e5-df1a-42f0-a2ae-1852350cb496"
      },
      "execution_count": 9,
      "outputs": [
        {
          "output_type": "execute_result",
          "data": {
            "text/plain": [
              "year                           0\n",
              "i                              0\n",
              "j                              0\n",
              "RTA_ij                         0\n",
              "X_ij                           0\n",
              "STC_i                          0\n",
              "RCA_i                          0\n",
              "pi_i                           0\n",
              "x_j                            0\n",
              "ln_GDP_i                       0\n",
              "ln_GDP_j                       0\n",
              "ln_POP_i                       0\n",
              "ln_POP_j                       0\n",
              "ln_TARIFF_ij                   0\n",
              "ln_PATENTS_i                   0\n",
              "ln_RENEWABLE_i                 0\n",
              "ln_TARIFF_ij*ln_PATENTS_i      0\n",
              "ln_TARIFF_ij*ln_RENEWABLE_i    0\n",
              "ln_DIST_ij                     0\n",
              "dtype: int64"
            ],
            "text/html": [
              "<div>\n",
              "<style scoped>\n",
              "    .dataframe tbody tr th:only-of-type {\n",
              "        vertical-align: middle;\n",
              "    }\n",
              "\n",
              "    .dataframe tbody tr th {\n",
              "        vertical-align: top;\n",
              "    }\n",
              "\n",
              "    .dataframe thead th {\n",
              "        text-align: right;\n",
              "    }\n",
              "</style>\n",
              "<table border=\"1\" class=\"dataframe\">\n",
              "  <thead>\n",
              "    <tr style=\"text-align: right;\">\n",
              "      <th></th>\n",
              "      <th>0</th>\n",
              "    </tr>\n",
              "  </thead>\n",
              "  <tbody>\n",
              "    <tr>\n",
              "      <th>year</th>\n",
              "      <td>0</td>\n",
              "    </tr>\n",
              "    <tr>\n",
              "      <th>i</th>\n",
              "      <td>0</td>\n",
              "    </tr>\n",
              "    <tr>\n",
              "      <th>j</th>\n",
              "      <td>0</td>\n",
              "    </tr>\n",
              "    <tr>\n",
              "      <th>RTA_ij</th>\n",
              "      <td>0</td>\n",
              "    </tr>\n",
              "    <tr>\n",
              "      <th>X_ij</th>\n",
              "      <td>0</td>\n",
              "    </tr>\n",
              "    <tr>\n",
              "      <th>STC_i</th>\n",
              "      <td>0</td>\n",
              "    </tr>\n",
              "    <tr>\n",
              "      <th>RCA_i</th>\n",
              "      <td>0</td>\n",
              "    </tr>\n",
              "    <tr>\n",
              "      <th>pi_i</th>\n",
              "      <td>0</td>\n",
              "    </tr>\n",
              "    <tr>\n",
              "      <th>x_j</th>\n",
              "      <td>0</td>\n",
              "    </tr>\n",
              "    <tr>\n",
              "      <th>ln_GDP_i</th>\n",
              "      <td>0</td>\n",
              "    </tr>\n",
              "    <tr>\n",
              "      <th>ln_GDP_j</th>\n",
              "      <td>0</td>\n",
              "    </tr>\n",
              "    <tr>\n",
              "      <th>ln_POP_i</th>\n",
              "      <td>0</td>\n",
              "    </tr>\n",
              "    <tr>\n",
              "      <th>ln_POP_j</th>\n",
              "      <td>0</td>\n",
              "    </tr>\n",
              "    <tr>\n",
              "      <th>ln_TARIFF_ij</th>\n",
              "      <td>0</td>\n",
              "    </tr>\n",
              "    <tr>\n",
              "      <th>ln_PATENTS_i</th>\n",
              "      <td>0</td>\n",
              "    </tr>\n",
              "    <tr>\n",
              "      <th>ln_RENEWABLE_i</th>\n",
              "      <td>0</td>\n",
              "    </tr>\n",
              "    <tr>\n",
              "      <th>ln_TARIFF_ij*ln_PATENTS_i</th>\n",
              "      <td>0</td>\n",
              "    </tr>\n",
              "    <tr>\n",
              "      <th>ln_TARIFF_ij*ln_RENEWABLE_i</th>\n",
              "      <td>0</td>\n",
              "    </tr>\n",
              "    <tr>\n",
              "      <th>ln_DIST_ij</th>\n",
              "      <td>0</td>\n",
              "    </tr>\n",
              "  </tbody>\n",
              "</table>\n",
              "</div><br><label><b>dtype:</b> int64</label>"
            ]
          },
          "metadata": {},
          "execution_count": 9
        }
      ]
    },
    {
      "cell_type": "code",
      "source": [
        "df_8_1.isnull().sum()"
      ],
      "metadata": {
        "colab": {
          "base_uri": "https://localhost:8080/",
          "height": 742
        },
        "id": "JDpa6FihXQPd",
        "outputId": "98b132da-3e03-4bf2-b444-aac556f73b62"
      },
      "execution_count": 10,
      "outputs": [
        {
          "output_type": "execute_result",
          "data": {
            "text/plain": [
              "year                                       0\n",
              "i                                          0\n",
              "j                                          0\n",
              "RTA_ij                                     0\n",
              "X_ij                                       0\n",
              "STC_i                                      0\n",
              "RCA_i                                      0\n",
              "pi_i                                       0\n",
              "x_j                                        0\n",
              "ln_GDP_i                                   0\n",
              "ln_GDP_j                                   0\n",
              "ln_POP_i                                   0\n",
              "ln_POP_j                                   0\n",
              "lnTARIFF_ij+CBAM_i_49                      0\n",
              "lnTARIFF_ij+CBAM_i_100                     0\n",
              "lnTARIFF_ij+CBAM_i_150                     0\n",
              "ln_PATENTS_i                               0\n",
              "ln_RENEWABLE_i                             0\n",
              "(lnTARIFF_ij+CBAM_i_100)*ln_PATENTS_i      0\n",
              "(lnTARIFF_ij+CBAM_i_150)*ln_RENEWABLE_i    0\n",
              "ln_DIST_ij                                 0\n",
              "dtype: int64"
            ],
            "text/html": [
              "<div>\n",
              "<style scoped>\n",
              "    .dataframe tbody tr th:only-of-type {\n",
              "        vertical-align: middle;\n",
              "    }\n",
              "\n",
              "    .dataframe tbody tr th {\n",
              "        vertical-align: top;\n",
              "    }\n",
              "\n",
              "    .dataframe thead th {\n",
              "        text-align: right;\n",
              "    }\n",
              "</style>\n",
              "<table border=\"1\" class=\"dataframe\">\n",
              "  <thead>\n",
              "    <tr style=\"text-align: right;\">\n",
              "      <th></th>\n",
              "      <th>0</th>\n",
              "    </tr>\n",
              "  </thead>\n",
              "  <tbody>\n",
              "    <tr>\n",
              "      <th>year</th>\n",
              "      <td>0</td>\n",
              "    </tr>\n",
              "    <tr>\n",
              "      <th>i</th>\n",
              "      <td>0</td>\n",
              "    </tr>\n",
              "    <tr>\n",
              "      <th>j</th>\n",
              "      <td>0</td>\n",
              "    </tr>\n",
              "    <tr>\n",
              "      <th>RTA_ij</th>\n",
              "      <td>0</td>\n",
              "    </tr>\n",
              "    <tr>\n",
              "      <th>X_ij</th>\n",
              "      <td>0</td>\n",
              "    </tr>\n",
              "    <tr>\n",
              "      <th>STC_i</th>\n",
              "      <td>0</td>\n",
              "    </tr>\n",
              "    <tr>\n",
              "      <th>RCA_i</th>\n",
              "      <td>0</td>\n",
              "    </tr>\n",
              "    <tr>\n",
              "      <th>pi_i</th>\n",
              "      <td>0</td>\n",
              "    </tr>\n",
              "    <tr>\n",
              "      <th>x_j</th>\n",
              "      <td>0</td>\n",
              "    </tr>\n",
              "    <tr>\n",
              "      <th>ln_GDP_i</th>\n",
              "      <td>0</td>\n",
              "    </tr>\n",
              "    <tr>\n",
              "      <th>ln_GDP_j</th>\n",
              "      <td>0</td>\n",
              "    </tr>\n",
              "    <tr>\n",
              "      <th>ln_POP_i</th>\n",
              "      <td>0</td>\n",
              "    </tr>\n",
              "    <tr>\n",
              "      <th>ln_POP_j</th>\n",
              "      <td>0</td>\n",
              "    </tr>\n",
              "    <tr>\n",
              "      <th>lnTARIFF_ij+CBAM_i_49</th>\n",
              "      <td>0</td>\n",
              "    </tr>\n",
              "    <tr>\n",
              "      <th>lnTARIFF_ij+CBAM_i_100</th>\n",
              "      <td>0</td>\n",
              "    </tr>\n",
              "    <tr>\n",
              "      <th>lnTARIFF_ij+CBAM_i_150</th>\n",
              "      <td>0</td>\n",
              "    </tr>\n",
              "    <tr>\n",
              "      <th>ln_PATENTS_i</th>\n",
              "      <td>0</td>\n",
              "    </tr>\n",
              "    <tr>\n",
              "      <th>ln_RENEWABLE_i</th>\n",
              "      <td>0</td>\n",
              "    </tr>\n",
              "    <tr>\n",
              "      <th>(lnTARIFF_ij+CBAM_i_100)*ln_PATENTS_i</th>\n",
              "      <td>0</td>\n",
              "    </tr>\n",
              "    <tr>\n",
              "      <th>(lnTARIFF_ij+CBAM_i_150)*ln_RENEWABLE_i</th>\n",
              "      <td>0</td>\n",
              "    </tr>\n",
              "    <tr>\n",
              "      <th>ln_DIST_ij</th>\n",
              "      <td>0</td>\n",
              "    </tr>\n",
              "  </tbody>\n",
              "</table>\n",
              "</div><br><label><b>dtype:</b> int64</label>"
            ]
          },
          "metadata": {},
          "execution_count": 10
        }
      ]
    },
    {
      "cell_type": "code",
      "source": [
        "df_8_2.isnull().sum()"
      ],
      "metadata": {
        "colab": {
          "base_uri": "https://localhost:8080/",
          "height": 742
        },
        "id": "4QapJQq7XR0w",
        "outputId": "c8bcf7a7-029e-4819-c29c-faa84acc76d9"
      },
      "execution_count": 11,
      "outputs": [
        {
          "output_type": "execute_result",
          "data": {
            "text/plain": [
              "year                                       0\n",
              "i                                          0\n",
              "j                                          0\n",
              "RTA_ij                                     0\n",
              "X_ij                                       0\n",
              "STC_i                                      0\n",
              "RCA_i                                      0\n",
              "pi_i                                       0\n",
              "x_j                                        0\n",
              "ln_GDP_i                                   0\n",
              "ln_GDP_j                                   0\n",
              "ln_POP_i                                   0\n",
              "ln_POP_j                                   0\n",
              "lnTARIFF_ij+CBAM_i_49                      0\n",
              "lnTARIFF_ij+CBAM_i_100                     0\n",
              "lnTARIFF_ij+CBAM_i_150                     0\n",
              "ln_PATENTS_i                               0\n",
              "ln_RENEWABLE_i                             0\n",
              "(lnTARIFF_ij+CBAM_i_100)*ln_PATENTS_i      0\n",
              "(lnTARIFF_ij+CBAM_i_150)*ln_RENEWABLE_i    0\n",
              "ln_DIST_ij                                 0\n",
              "dtype: int64"
            ],
            "text/html": [
              "<div>\n",
              "<style scoped>\n",
              "    .dataframe tbody tr th:only-of-type {\n",
              "        vertical-align: middle;\n",
              "    }\n",
              "\n",
              "    .dataframe tbody tr th {\n",
              "        vertical-align: top;\n",
              "    }\n",
              "\n",
              "    .dataframe thead th {\n",
              "        text-align: right;\n",
              "    }\n",
              "</style>\n",
              "<table border=\"1\" class=\"dataframe\">\n",
              "  <thead>\n",
              "    <tr style=\"text-align: right;\">\n",
              "      <th></th>\n",
              "      <th>0</th>\n",
              "    </tr>\n",
              "  </thead>\n",
              "  <tbody>\n",
              "    <tr>\n",
              "      <th>year</th>\n",
              "      <td>0</td>\n",
              "    </tr>\n",
              "    <tr>\n",
              "      <th>i</th>\n",
              "      <td>0</td>\n",
              "    </tr>\n",
              "    <tr>\n",
              "      <th>j</th>\n",
              "      <td>0</td>\n",
              "    </tr>\n",
              "    <tr>\n",
              "      <th>RTA_ij</th>\n",
              "      <td>0</td>\n",
              "    </tr>\n",
              "    <tr>\n",
              "      <th>X_ij</th>\n",
              "      <td>0</td>\n",
              "    </tr>\n",
              "    <tr>\n",
              "      <th>STC_i</th>\n",
              "      <td>0</td>\n",
              "    </tr>\n",
              "    <tr>\n",
              "      <th>RCA_i</th>\n",
              "      <td>0</td>\n",
              "    </tr>\n",
              "    <tr>\n",
              "      <th>pi_i</th>\n",
              "      <td>0</td>\n",
              "    </tr>\n",
              "    <tr>\n",
              "      <th>x_j</th>\n",
              "      <td>0</td>\n",
              "    </tr>\n",
              "    <tr>\n",
              "      <th>ln_GDP_i</th>\n",
              "      <td>0</td>\n",
              "    </tr>\n",
              "    <tr>\n",
              "      <th>ln_GDP_j</th>\n",
              "      <td>0</td>\n",
              "    </tr>\n",
              "    <tr>\n",
              "      <th>ln_POP_i</th>\n",
              "      <td>0</td>\n",
              "    </tr>\n",
              "    <tr>\n",
              "      <th>ln_POP_j</th>\n",
              "      <td>0</td>\n",
              "    </tr>\n",
              "    <tr>\n",
              "      <th>lnTARIFF_ij+CBAM_i_49</th>\n",
              "      <td>0</td>\n",
              "    </tr>\n",
              "    <tr>\n",
              "      <th>lnTARIFF_ij+CBAM_i_100</th>\n",
              "      <td>0</td>\n",
              "    </tr>\n",
              "    <tr>\n",
              "      <th>lnTARIFF_ij+CBAM_i_150</th>\n",
              "      <td>0</td>\n",
              "    </tr>\n",
              "    <tr>\n",
              "      <th>ln_PATENTS_i</th>\n",
              "      <td>0</td>\n",
              "    </tr>\n",
              "    <tr>\n",
              "      <th>ln_RENEWABLE_i</th>\n",
              "      <td>0</td>\n",
              "    </tr>\n",
              "    <tr>\n",
              "      <th>(lnTARIFF_ij+CBAM_i_100)*ln_PATENTS_i</th>\n",
              "      <td>0</td>\n",
              "    </tr>\n",
              "    <tr>\n",
              "      <th>(lnTARIFF_ij+CBAM_i_150)*ln_RENEWABLE_i</th>\n",
              "      <td>0</td>\n",
              "    </tr>\n",
              "    <tr>\n",
              "      <th>ln_DIST_ij</th>\n",
              "      <td>0</td>\n",
              "    </tr>\n",
              "  </tbody>\n",
              "</table>\n",
              "</div><br><label><b>dtype:</b> int64</label>"
            ]
          },
          "metadata": {},
          "execution_count": 11
        }
      ]
    },
    {
      "cell_type": "markdown",
      "source": [
        "# VIF 검정"
      ],
      "metadata": {
        "id": "7c0c6FJh_bX5"
      }
    },
    {
      "cell_type": "code",
      "source": [
        "from statsmodels.stats.outliers_influence import variance_inflation_factor"
      ],
      "metadata": {
        "id": "UBvTOAdf-7G2"
      },
      "execution_count": 12,
      "outputs": []
    },
    {
      "cell_type": "markdown",
      "source": [
        "## 7_1"
      ],
      "metadata": {
        "id": "oLHRTyGC_5QE"
      }
    },
    {
      "cell_type": "code",
      "source": [
        "df_7_1.dtypes"
      ],
      "metadata": {
        "colab": {
          "base_uri": "https://localhost:8080/",
          "height": 679
        },
        "id": "uXgoS9GXAosK",
        "outputId": "a3bda5dc-d6e0-44db-9b4b-635783b8e594"
      },
      "execution_count": 13,
      "outputs": [
        {
          "output_type": "execute_result",
          "data": {
            "text/plain": [
              "year                             int64\n",
              "i                               object\n",
              "j                               object\n",
              "RTA_ij                           int64\n",
              "X_ij                           float64\n",
              "STC_i                          float64\n",
              "RCA_i                          float64\n",
              "pi_i                            object\n",
              "x_j                             object\n",
              "ln_GDP_i                       float64\n",
              "ln_GDP_j                       float64\n",
              "ln_POP_i                       float64\n",
              "ln_POP_j                       float64\n",
              "ln_TARIFF_ij                   float64\n",
              "ln_PATENTS_i                   float64\n",
              "ln_RENEWABLE_i                 float64\n",
              "ln_TARIFF_ij*ln_PATENTS_i      float64\n",
              "ln_TARIFF_ij*ln_RENEWABLE_i    float64\n",
              "ln_DIST_ij                     float64\n",
              "dtype: object"
            ],
            "text/html": [
              "<div>\n",
              "<style scoped>\n",
              "    .dataframe tbody tr th:only-of-type {\n",
              "        vertical-align: middle;\n",
              "    }\n",
              "\n",
              "    .dataframe tbody tr th {\n",
              "        vertical-align: top;\n",
              "    }\n",
              "\n",
              "    .dataframe thead th {\n",
              "        text-align: right;\n",
              "    }\n",
              "</style>\n",
              "<table border=\"1\" class=\"dataframe\">\n",
              "  <thead>\n",
              "    <tr style=\"text-align: right;\">\n",
              "      <th></th>\n",
              "      <th>0</th>\n",
              "    </tr>\n",
              "  </thead>\n",
              "  <tbody>\n",
              "    <tr>\n",
              "      <th>year</th>\n",
              "      <td>int64</td>\n",
              "    </tr>\n",
              "    <tr>\n",
              "      <th>i</th>\n",
              "      <td>object</td>\n",
              "    </tr>\n",
              "    <tr>\n",
              "      <th>j</th>\n",
              "      <td>object</td>\n",
              "    </tr>\n",
              "    <tr>\n",
              "      <th>RTA_ij</th>\n",
              "      <td>int64</td>\n",
              "    </tr>\n",
              "    <tr>\n",
              "      <th>X_ij</th>\n",
              "      <td>float64</td>\n",
              "    </tr>\n",
              "    <tr>\n",
              "      <th>STC_i</th>\n",
              "      <td>float64</td>\n",
              "    </tr>\n",
              "    <tr>\n",
              "      <th>RCA_i</th>\n",
              "      <td>float64</td>\n",
              "    </tr>\n",
              "    <tr>\n",
              "      <th>pi_i</th>\n",
              "      <td>object</td>\n",
              "    </tr>\n",
              "    <tr>\n",
              "      <th>x_j</th>\n",
              "      <td>object</td>\n",
              "    </tr>\n",
              "    <tr>\n",
              "      <th>ln_GDP_i</th>\n",
              "      <td>float64</td>\n",
              "    </tr>\n",
              "    <tr>\n",
              "      <th>ln_GDP_j</th>\n",
              "      <td>float64</td>\n",
              "    </tr>\n",
              "    <tr>\n",
              "      <th>ln_POP_i</th>\n",
              "      <td>float64</td>\n",
              "    </tr>\n",
              "    <tr>\n",
              "      <th>ln_POP_j</th>\n",
              "      <td>float64</td>\n",
              "    </tr>\n",
              "    <tr>\n",
              "      <th>ln_TARIFF_ij</th>\n",
              "      <td>float64</td>\n",
              "    </tr>\n",
              "    <tr>\n",
              "      <th>ln_PATENTS_i</th>\n",
              "      <td>float64</td>\n",
              "    </tr>\n",
              "    <tr>\n",
              "      <th>ln_RENEWABLE_i</th>\n",
              "      <td>float64</td>\n",
              "    </tr>\n",
              "    <tr>\n",
              "      <th>ln_TARIFF_ij*ln_PATENTS_i</th>\n",
              "      <td>float64</td>\n",
              "    </tr>\n",
              "    <tr>\n",
              "      <th>ln_TARIFF_ij*ln_RENEWABLE_i</th>\n",
              "      <td>float64</td>\n",
              "    </tr>\n",
              "    <tr>\n",
              "      <th>ln_DIST_ij</th>\n",
              "      <td>float64</td>\n",
              "    </tr>\n",
              "  </tbody>\n",
              "</table>\n",
              "</div><br><label><b>dtype:</b> object</label>"
            ]
          },
          "metadata": {},
          "execution_count": 13
        }
      ]
    },
    {
      "cell_type": "code",
      "source": [
        "X_7_1 = df_7_1.drop(columns=['year', 'i', 'j', 'X_ij', 'pi_i', 'x_j', 'ln_TARIFF_ij', 'ln_TARIFF_ij*ln_PATENTS_i', 'ln_TARIFF_ij*ln_RENEWABLE_i'])\n",
        "\n",
        "vif_7_1 = pd.DataFrame()\n",
        "vif_7_1[\"Variable\"] = X_7_1.columns\n",
        "vif_7_1[\"VIF\"] = [variance_inflation_factor(X_7_1.values, i) for i in range(X_7_1.shape[1])]\n",
        "\n",
        "print(vif_7_1)"
      ],
      "metadata": {
        "colab": {
          "base_uri": "https://localhost:8080/"
        },
        "id": "eZIboli__2-v",
        "outputId": "8177bd96-e0ac-4281-9725-68235732ceb9"
      },
      "execution_count": 14,
      "outputs": [
        {
          "output_type": "stream",
          "name": "stdout",
          "text": [
            "         Variable         VIF\n",
            "0          RTA_ij    2.869648\n",
            "1           STC_i    2.522680\n",
            "2           RCA_i    2.826805\n",
            "3        ln_GDP_i  498.577444\n",
            "4        ln_GDP_j  672.168300\n",
            "5        ln_POP_i  265.611546\n",
            "6        ln_POP_j  194.716677\n",
            "7    ln_PATENTS_i   11.795759\n",
            "8  ln_RENEWABLE_i   10.252891\n",
            "9      ln_DIST_ij  121.016055\n"
          ]
        }
      ]
    },
    {
      "cell_type": "markdown",
      "source": [
        "## 7_2"
      ],
      "metadata": {
        "id": "wJ6OHsVXA7Iw"
      }
    },
    {
      "cell_type": "code",
      "source": [
        "df_7_1.dtypes"
      ],
      "metadata": {
        "colab": {
          "base_uri": "https://localhost:8080/",
          "height": 679
        },
        "id": "B4-ry6DIA8GY",
        "outputId": "105408f4-61c0-41ad-a9cd-cc237fefc697"
      },
      "execution_count": 15,
      "outputs": [
        {
          "output_type": "execute_result",
          "data": {
            "text/plain": [
              "year                             int64\n",
              "i                               object\n",
              "j                               object\n",
              "RTA_ij                           int64\n",
              "X_ij                           float64\n",
              "STC_i                          float64\n",
              "RCA_i                          float64\n",
              "pi_i                            object\n",
              "x_j                             object\n",
              "ln_GDP_i                       float64\n",
              "ln_GDP_j                       float64\n",
              "ln_POP_i                       float64\n",
              "ln_POP_j                       float64\n",
              "ln_TARIFF_ij                   float64\n",
              "ln_PATENTS_i                   float64\n",
              "ln_RENEWABLE_i                 float64\n",
              "ln_TARIFF_ij*ln_PATENTS_i      float64\n",
              "ln_TARIFF_ij*ln_RENEWABLE_i    float64\n",
              "ln_DIST_ij                     float64\n",
              "dtype: object"
            ],
            "text/html": [
              "<div>\n",
              "<style scoped>\n",
              "    .dataframe tbody tr th:only-of-type {\n",
              "        vertical-align: middle;\n",
              "    }\n",
              "\n",
              "    .dataframe tbody tr th {\n",
              "        vertical-align: top;\n",
              "    }\n",
              "\n",
              "    .dataframe thead th {\n",
              "        text-align: right;\n",
              "    }\n",
              "</style>\n",
              "<table border=\"1\" class=\"dataframe\">\n",
              "  <thead>\n",
              "    <tr style=\"text-align: right;\">\n",
              "      <th></th>\n",
              "      <th>0</th>\n",
              "    </tr>\n",
              "  </thead>\n",
              "  <tbody>\n",
              "    <tr>\n",
              "      <th>year</th>\n",
              "      <td>int64</td>\n",
              "    </tr>\n",
              "    <tr>\n",
              "      <th>i</th>\n",
              "      <td>object</td>\n",
              "    </tr>\n",
              "    <tr>\n",
              "      <th>j</th>\n",
              "      <td>object</td>\n",
              "    </tr>\n",
              "    <tr>\n",
              "      <th>RTA_ij</th>\n",
              "      <td>int64</td>\n",
              "    </tr>\n",
              "    <tr>\n",
              "      <th>X_ij</th>\n",
              "      <td>float64</td>\n",
              "    </tr>\n",
              "    <tr>\n",
              "      <th>STC_i</th>\n",
              "      <td>float64</td>\n",
              "    </tr>\n",
              "    <tr>\n",
              "      <th>RCA_i</th>\n",
              "      <td>float64</td>\n",
              "    </tr>\n",
              "    <tr>\n",
              "      <th>pi_i</th>\n",
              "      <td>object</td>\n",
              "    </tr>\n",
              "    <tr>\n",
              "      <th>x_j</th>\n",
              "      <td>object</td>\n",
              "    </tr>\n",
              "    <tr>\n",
              "      <th>ln_GDP_i</th>\n",
              "      <td>float64</td>\n",
              "    </tr>\n",
              "    <tr>\n",
              "      <th>ln_GDP_j</th>\n",
              "      <td>float64</td>\n",
              "    </tr>\n",
              "    <tr>\n",
              "      <th>ln_POP_i</th>\n",
              "      <td>float64</td>\n",
              "    </tr>\n",
              "    <tr>\n",
              "      <th>ln_POP_j</th>\n",
              "      <td>float64</td>\n",
              "    </tr>\n",
              "    <tr>\n",
              "      <th>ln_TARIFF_ij</th>\n",
              "      <td>float64</td>\n",
              "    </tr>\n",
              "    <tr>\n",
              "      <th>ln_PATENTS_i</th>\n",
              "      <td>float64</td>\n",
              "    </tr>\n",
              "    <tr>\n",
              "      <th>ln_RENEWABLE_i</th>\n",
              "      <td>float64</td>\n",
              "    </tr>\n",
              "    <tr>\n",
              "      <th>ln_TARIFF_ij*ln_PATENTS_i</th>\n",
              "      <td>float64</td>\n",
              "    </tr>\n",
              "    <tr>\n",
              "      <th>ln_TARIFF_ij*ln_RENEWABLE_i</th>\n",
              "      <td>float64</td>\n",
              "    </tr>\n",
              "    <tr>\n",
              "      <th>ln_DIST_ij</th>\n",
              "      <td>float64</td>\n",
              "    </tr>\n",
              "  </tbody>\n",
              "</table>\n",
              "</div><br><label><b>dtype:</b> object</label>"
            ]
          },
          "metadata": {},
          "execution_count": 15
        }
      ]
    },
    {
      "cell_type": "code",
      "source": [
        "X_7_2 = df_7_2.drop(columns=['year', 'i', 'j', 'X_ij', 'pi_i', 'x_j', 'ln_TARIFF_ij', 'ln_TARIFF_ij*ln_PATENTS_i', 'ln_TARIFF_ij*ln_RENEWABLE_i'])\n",
        "\n",
        "vif_7_2 = pd.DataFrame()\n",
        "vif_7_2[\"Variable\"] = X_7_2.columns\n",
        "vif_7_2[\"VIF\"] = [variance_inflation_factor(X_7_2.values, i) for i in range(X_7_2.shape[1])]\n",
        "\n",
        "print(vif_7_2)"
      ],
      "metadata": {
        "colab": {
          "base_uri": "https://localhost:8080/"
        },
        "id": "DyMELHB1A_oa",
        "outputId": "75abca6e-5e55-4826-974f-10b2f55e85c4"
      },
      "execution_count": 16,
      "outputs": [
        {
          "output_type": "stream",
          "name": "stdout",
          "text": [
            "         Variable         VIF\n",
            "0          RTA_ij    3.127668\n",
            "1           STC_i    2.882434\n",
            "2           RCA_i    3.024974\n",
            "3        ln_GDP_i  629.281124\n",
            "4        ln_GDP_j  787.694306\n",
            "5        ln_POP_i  319.616184\n",
            "6        ln_POP_j  220.794903\n",
            "7    ln_PATENTS_i   13.743412\n",
            "8  ln_RENEWABLE_i   11.959208\n",
            "9      ln_DIST_ij  124.014721\n"
          ]
        }
      ]
    },
    {
      "cell_type": "markdown",
      "source": [
        "## 8_1"
      ],
      "metadata": {
        "id": "2RewLiRGBNXp"
      }
    },
    {
      "cell_type": "code",
      "source": [
        "df_8_1.dtypes"
      ],
      "metadata": {
        "colab": {
          "base_uri": "https://localhost:8080/",
          "height": 742
        },
        "id": "lq63cyoWBMWp",
        "outputId": "d3485774-74cc-4003-c8f2-5a7d7cbc6f62"
      },
      "execution_count": 17,
      "outputs": [
        {
          "output_type": "execute_result",
          "data": {
            "text/plain": [
              "year                                         int64\n",
              "i                                           object\n",
              "j                                           object\n",
              "RTA_ij                                       int64\n",
              "X_ij                                       float64\n",
              "STC_i                                      float64\n",
              "RCA_i                                      float64\n",
              "pi_i                                        object\n",
              "x_j                                         object\n",
              "ln_GDP_i                                   float64\n",
              "ln_GDP_j                                   float64\n",
              "ln_POP_i                                   float64\n",
              "ln_POP_j                                   float64\n",
              "lnTARIFF_ij+CBAM_i_49                      float64\n",
              "lnTARIFF_ij+CBAM_i_100                     float64\n",
              "lnTARIFF_ij+CBAM_i_150                     float64\n",
              "ln_PATENTS_i                               float64\n",
              "ln_RENEWABLE_i                             float64\n",
              "(lnTARIFF_ij+CBAM_i_100)*ln_PATENTS_i      float64\n",
              "(lnTARIFF_ij+CBAM_i_150)*ln_RENEWABLE_i    float64\n",
              "ln_DIST_ij                                 float64\n",
              "dtype: object"
            ],
            "text/html": [
              "<div>\n",
              "<style scoped>\n",
              "    .dataframe tbody tr th:only-of-type {\n",
              "        vertical-align: middle;\n",
              "    }\n",
              "\n",
              "    .dataframe tbody tr th {\n",
              "        vertical-align: top;\n",
              "    }\n",
              "\n",
              "    .dataframe thead th {\n",
              "        text-align: right;\n",
              "    }\n",
              "</style>\n",
              "<table border=\"1\" class=\"dataframe\">\n",
              "  <thead>\n",
              "    <tr style=\"text-align: right;\">\n",
              "      <th></th>\n",
              "      <th>0</th>\n",
              "    </tr>\n",
              "  </thead>\n",
              "  <tbody>\n",
              "    <tr>\n",
              "      <th>year</th>\n",
              "      <td>int64</td>\n",
              "    </tr>\n",
              "    <tr>\n",
              "      <th>i</th>\n",
              "      <td>object</td>\n",
              "    </tr>\n",
              "    <tr>\n",
              "      <th>j</th>\n",
              "      <td>object</td>\n",
              "    </tr>\n",
              "    <tr>\n",
              "      <th>RTA_ij</th>\n",
              "      <td>int64</td>\n",
              "    </tr>\n",
              "    <tr>\n",
              "      <th>X_ij</th>\n",
              "      <td>float64</td>\n",
              "    </tr>\n",
              "    <tr>\n",
              "      <th>STC_i</th>\n",
              "      <td>float64</td>\n",
              "    </tr>\n",
              "    <tr>\n",
              "      <th>RCA_i</th>\n",
              "      <td>float64</td>\n",
              "    </tr>\n",
              "    <tr>\n",
              "      <th>pi_i</th>\n",
              "      <td>object</td>\n",
              "    </tr>\n",
              "    <tr>\n",
              "      <th>x_j</th>\n",
              "      <td>object</td>\n",
              "    </tr>\n",
              "    <tr>\n",
              "      <th>ln_GDP_i</th>\n",
              "      <td>float64</td>\n",
              "    </tr>\n",
              "    <tr>\n",
              "      <th>ln_GDP_j</th>\n",
              "      <td>float64</td>\n",
              "    </tr>\n",
              "    <tr>\n",
              "      <th>ln_POP_i</th>\n",
              "      <td>float64</td>\n",
              "    </tr>\n",
              "    <tr>\n",
              "      <th>ln_POP_j</th>\n",
              "      <td>float64</td>\n",
              "    </tr>\n",
              "    <tr>\n",
              "      <th>lnTARIFF_ij+CBAM_i_49</th>\n",
              "      <td>float64</td>\n",
              "    </tr>\n",
              "    <tr>\n",
              "      <th>lnTARIFF_ij+CBAM_i_100</th>\n",
              "      <td>float64</td>\n",
              "    </tr>\n",
              "    <tr>\n",
              "      <th>lnTARIFF_ij+CBAM_i_150</th>\n",
              "      <td>float64</td>\n",
              "    </tr>\n",
              "    <tr>\n",
              "      <th>ln_PATENTS_i</th>\n",
              "      <td>float64</td>\n",
              "    </tr>\n",
              "    <tr>\n",
              "      <th>ln_RENEWABLE_i</th>\n",
              "      <td>float64</td>\n",
              "    </tr>\n",
              "    <tr>\n",
              "      <th>(lnTARIFF_ij+CBAM_i_100)*ln_PATENTS_i</th>\n",
              "      <td>float64</td>\n",
              "    </tr>\n",
              "    <tr>\n",
              "      <th>(lnTARIFF_ij+CBAM_i_150)*ln_RENEWABLE_i</th>\n",
              "      <td>float64</td>\n",
              "    </tr>\n",
              "    <tr>\n",
              "      <th>ln_DIST_ij</th>\n",
              "      <td>float64</td>\n",
              "    </tr>\n",
              "  </tbody>\n",
              "</table>\n",
              "</div><br><label><b>dtype:</b> object</label>"
            ]
          },
          "metadata": {},
          "execution_count": 17
        }
      ]
    },
    {
      "cell_type": "code",
      "source": [
        "X_8_1 = df_8_1.drop(columns=['lnTARIFF_ij+CBAM_i_49', 'lnTARIFF_ij+CBAM_i_100', 'lnTARIFF_ij+CBAM_i_150', 'year', 'i', 'j', 'X_ij', 'pi_i', 'x_j', '(lnTARIFF_ij+CBAM_i_100)*ln_PATENTS_i', '(lnTARIFF_ij+CBAM_i_150)*ln_RENEWABLE_i'])\n",
        "\n",
        "vif_8_1 = pd.DataFrame()\n",
        "vif_8_1[\"Variable\"] = X_8_1.columns\n",
        "vif_8_1[\"VIF\"] = [variance_inflation_factor(X_8_1.values, i) for i in range(X_8_1.shape[1])]\n",
        "\n",
        "print(vif_8_1)"
      ],
      "metadata": {
        "colab": {
          "base_uri": "https://localhost:8080/"
        },
        "id": "vISusZiBBSgS",
        "outputId": "d615666e-a067-4040-c10c-22bf8d32fccf"
      },
      "execution_count": 18,
      "outputs": [
        {
          "output_type": "stream",
          "name": "stdout",
          "text": [
            "         Variable         VIF\n",
            "0          RTA_ij    2.869648\n",
            "1           STC_i    2.522680\n",
            "2           RCA_i    2.826805\n",
            "3        ln_GDP_i  498.577444\n",
            "4        ln_GDP_j  672.168300\n",
            "5        ln_POP_i  265.611546\n",
            "6        ln_POP_j  194.716677\n",
            "7    ln_PATENTS_i   11.795759\n",
            "8  ln_RENEWABLE_i   10.252891\n",
            "9      ln_DIST_ij  121.016055\n"
          ]
        }
      ]
    },
    {
      "cell_type": "markdown",
      "source": [
        "## 8_2"
      ],
      "metadata": {
        "id": "ObqOoou0BOyd"
      }
    },
    {
      "cell_type": "code",
      "source": [
        "df_8_2.dtypes"
      ],
      "metadata": {
        "colab": {
          "base_uri": "https://localhost:8080/",
          "height": 742
        },
        "id": "bIUp7IRpBQvK",
        "outputId": "4f3fc337-3eb8-40f0-a09b-e1fcc0ad5a1f"
      },
      "execution_count": 19,
      "outputs": [
        {
          "output_type": "execute_result",
          "data": {
            "text/plain": [
              "year                                         int64\n",
              "i                                           object\n",
              "j                                           object\n",
              "RTA_ij                                       int64\n",
              "X_ij                                       float64\n",
              "STC_i                                      float64\n",
              "RCA_i                                      float64\n",
              "pi_i                                        object\n",
              "x_j                                         object\n",
              "ln_GDP_i                                   float64\n",
              "ln_GDP_j                                   float64\n",
              "ln_POP_i                                   float64\n",
              "ln_POP_j                                   float64\n",
              "lnTARIFF_ij+CBAM_i_49                      float64\n",
              "lnTARIFF_ij+CBAM_i_100                     float64\n",
              "lnTARIFF_ij+CBAM_i_150                     float64\n",
              "ln_PATENTS_i                               float64\n",
              "ln_RENEWABLE_i                             float64\n",
              "(lnTARIFF_ij+CBAM_i_100)*ln_PATENTS_i      float64\n",
              "(lnTARIFF_ij+CBAM_i_150)*ln_RENEWABLE_i    float64\n",
              "ln_DIST_ij                                 float64\n",
              "dtype: object"
            ],
            "text/html": [
              "<div>\n",
              "<style scoped>\n",
              "    .dataframe tbody tr th:only-of-type {\n",
              "        vertical-align: middle;\n",
              "    }\n",
              "\n",
              "    .dataframe tbody tr th {\n",
              "        vertical-align: top;\n",
              "    }\n",
              "\n",
              "    .dataframe thead th {\n",
              "        text-align: right;\n",
              "    }\n",
              "</style>\n",
              "<table border=\"1\" class=\"dataframe\">\n",
              "  <thead>\n",
              "    <tr style=\"text-align: right;\">\n",
              "      <th></th>\n",
              "      <th>0</th>\n",
              "    </tr>\n",
              "  </thead>\n",
              "  <tbody>\n",
              "    <tr>\n",
              "      <th>year</th>\n",
              "      <td>int64</td>\n",
              "    </tr>\n",
              "    <tr>\n",
              "      <th>i</th>\n",
              "      <td>object</td>\n",
              "    </tr>\n",
              "    <tr>\n",
              "      <th>j</th>\n",
              "      <td>object</td>\n",
              "    </tr>\n",
              "    <tr>\n",
              "      <th>RTA_ij</th>\n",
              "      <td>int64</td>\n",
              "    </tr>\n",
              "    <tr>\n",
              "      <th>X_ij</th>\n",
              "      <td>float64</td>\n",
              "    </tr>\n",
              "    <tr>\n",
              "      <th>STC_i</th>\n",
              "      <td>float64</td>\n",
              "    </tr>\n",
              "    <tr>\n",
              "      <th>RCA_i</th>\n",
              "      <td>float64</td>\n",
              "    </tr>\n",
              "    <tr>\n",
              "      <th>pi_i</th>\n",
              "      <td>object</td>\n",
              "    </tr>\n",
              "    <tr>\n",
              "      <th>x_j</th>\n",
              "      <td>object</td>\n",
              "    </tr>\n",
              "    <tr>\n",
              "      <th>ln_GDP_i</th>\n",
              "      <td>float64</td>\n",
              "    </tr>\n",
              "    <tr>\n",
              "      <th>ln_GDP_j</th>\n",
              "      <td>float64</td>\n",
              "    </tr>\n",
              "    <tr>\n",
              "      <th>ln_POP_i</th>\n",
              "      <td>float64</td>\n",
              "    </tr>\n",
              "    <tr>\n",
              "      <th>ln_POP_j</th>\n",
              "      <td>float64</td>\n",
              "    </tr>\n",
              "    <tr>\n",
              "      <th>lnTARIFF_ij+CBAM_i_49</th>\n",
              "      <td>float64</td>\n",
              "    </tr>\n",
              "    <tr>\n",
              "      <th>lnTARIFF_ij+CBAM_i_100</th>\n",
              "      <td>float64</td>\n",
              "    </tr>\n",
              "    <tr>\n",
              "      <th>lnTARIFF_ij+CBAM_i_150</th>\n",
              "      <td>float64</td>\n",
              "    </tr>\n",
              "    <tr>\n",
              "      <th>ln_PATENTS_i</th>\n",
              "      <td>float64</td>\n",
              "    </tr>\n",
              "    <tr>\n",
              "      <th>ln_RENEWABLE_i</th>\n",
              "      <td>float64</td>\n",
              "    </tr>\n",
              "    <tr>\n",
              "      <th>(lnTARIFF_ij+CBAM_i_100)*ln_PATENTS_i</th>\n",
              "      <td>float64</td>\n",
              "    </tr>\n",
              "    <tr>\n",
              "      <th>(lnTARIFF_ij+CBAM_i_150)*ln_RENEWABLE_i</th>\n",
              "      <td>float64</td>\n",
              "    </tr>\n",
              "    <tr>\n",
              "      <th>ln_DIST_ij</th>\n",
              "      <td>float64</td>\n",
              "    </tr>\n",
              "  </tbody>\n",
              "</table>\n",
              "</div><br><label><b>dtype:</b> object</label>"
            ]
          },
          "metadata": {},
          "execution_count": 19
        }
      ]
    },
    {
      "cell_type": "code",
      "source": [
        "X_8_2 = df_8_2.drop(columns=['lnTARIFF_ij+CBAM_i_49', 'lnTARIFF_ij+CBAM_i_100', 'lnTARIFF_ij+CBAM_i_150', 'year', 'i', 'j', 'X_ij', 'pi_i', 'x_j', '(lnTARIFF_ij+CBAM_i_100)*ln_PATENTS_i', '(lnTARIFF_ij+CBAM_i_150)*ln_RENEWABLE_i'])\n",
        "\n",
        "vif_8_2 = pd.DataFrame()\n",
        "vif_8_2[\"Variable\"] = X_8_2.columns\n",
        "vif_8_2[\"VIF\"] = [variance_inflation_factor(X_8_2.values, i) for i in range(X_8_2.shape[1])]\n",
        "\n",
        "print(vif_8_2)"
      ],
      "metadata": {
        "colab": {
          "base_uri": "https://localhost:8080/"
        },
        "id": "DTLyUwZTBnng",
        "outputId": "0ad26cc4-5cf2-4e19-c0e7-6d7b9efbf0b6"
      },
      "execution_count": 20,
      "outputs": [
        {
          "output_type": "stream",
          "name": "stdout",
          "text": [
            "         Variable         VIF\n",
            "0          RTA_ij    3.127668\n",
            "1           STC_i    2.882434\n",
            "2           RCA_i    3.024974\n",
            "3        ln_GDP_i  629.281124\n",
            "4        ln_GDP_j  787.694306\n",
            "5        ln_POP_i  319.616184\n",
            "6        ln_POP_j  220.794903\n",
            "7    ln_PATENTS_i   13.743412\n",
            "8  ln_RENEWABLE_i   11.959208\n",
            "9      ln_DIST_ij  124.014721\n"
          ]
        }
      ]
    },
    {
      "cell_type": "markdown",
      "source": [
        "# 빼고 다시 VIF"
      ],
      "metadata": {
        "id": "YBms3jVoSFhQ"
      }
    },
    {
      "cell_type": "code",
      "source": [
        "X_7_1 = df_7_1.drop(columns=['ln_RENEWABLE_i', 'ln_TARIFF_ij', 'year', 'i', 'j', 'X_ij', 'pi_i', 'x_j', 'ln_TARIFF_ij*ln_PATENTS_i', 'ln_TARIFF_ij*ln_RENEWABLE_i'])\n",
        "\n",
        "vif_7_1 = pd.DataFrame()\n",
        "vif_7_1[\"Variable\"] = X_7_1.columns\n",
        "vif_7_1[\"VIF\"] = [variance_inflation_factor(X_7_1.values, i) for i in range(X_7_1.shape[1])]\n",
        "\n",
        "print(vif_7_1)"
      ],
      "metadata": {
        "colab": {
          "base_uri": "https://localhost:8080/"
        },
        "id": "g6xxLWUbSJBy",
        "outputId": "00107dcd-4b01-41bc-8ce5-67b134f2eade"
      },
      "execution_count": 28,
      "outputs": [
        {
          "output_type": "stream",
          "name": "stdout",
          "text": [
            "       Variable         VIF\n",
            "0        RTA_ij    2.673464\n",
            "1         STC_i    2.458804\n",
            "2         RCA_i    2.721849\n",
            "3      ln_GDP_i  437.372881\n",
            "4      ln_GDP_j  666.572861\n",
            "5      ln_POP_i  263.137921\n",
            "6      ln_POP_j  192.872838\n",
            "7  ln_PATENTS_i    9.901425\n",
            "8    ln_DIST_ij  113.667700\n"
          ]
        }
      ]
    },
    {
      "cell_type": "code",
      "source": [
        "X_7_2 = df_7_2.drop(columns=['ln_RENEWABLE_i', 'ln_TARIFF_ij', 'year', 'i', 'j', 'X_ij', 'pi_i', 'x_j', 'ln_TARIFF_ij*ln_PATENTS_i', 'ln_TARIFF_ij*ln_RENEWABLE_i'])\n",
        "\n",
        "vif_7_2 = pd.DataFrame()\n",
        "vif_7_2[\"Variable\"] = X_7_2.columns\n",
        "vif_7_2[\"VIF\"] = [variance_inflation_factor(X_7_2.values, i) for i in range(X_7_2.shape[1])]\n",
        "\n",
        "print(vif_7_2)"
      ],
      "metadata": {
        "colab": {
          "base_uri": "https://localhost:8080/"
        },
        "id": "YQhBN-n1SQmn",
        "outputId": "301844b8-41da-46d2-acd8-129d7b0fe7ef"
      },
      "execution_count": 29,
      "outputs": [
        {
          "output_type": "stream",
          "name": "stdout",
          "text": [
            "       Variable         VIF\n",
            "0        RTA_ij    2.841345\n",
            "1         STC_i    2.775638\n",
            "2         RCA_i    2.941119\n",
            "3      ln_GDP_i  520.009458\n",
            "4      ln_GDP_j  785.548020\n",
            "5      ln_POP_i  310.026710\n",
            "6      ln_POP_j  219.795796\n",
            "7  ln_PATENTS_i   11.153873\n",
            "8    ln_DIST_ij  116.227549\n"
          ]
        }
      ]
    },
    {
      "cell_type": "code",
      "source": [
        "X_8_1 = df_8_1.drop(columns=['ln_RENEWABLE_i', 'lnTARIFF_ij+CBAM_i_49', 'lnTARIFF_ij+CBAM_i_100', 'lnTARIFF_ij+CBAM_i_150', 'year', 'i', 'j', 'X_ij', 'pi_i', 'x_j', '(lnTARIFF_ij+CBAM_i_100)*ln_PATENTS_i', '(lnTARIFF_ij+CBAM_i_150)*ln_RENEWABLE_i'])\n",
        "\n",
        "vif_8_1 = pd.DataFrame()\n",
        "vif_8_1[\"Variable\"] = X_8_1.columns\n",
        "vif_8_1[\"VIF\"] = [variance_inflation_factor(X_8_1.values, i) for i in range(X_8_1.shape[1])]\n",
        "\n",
        "print(vif_8_1)"
      ],
      "metadata": {
        "colab": {
          "base_uri": "https://localhost:8080/"
        },
        "id": "5qzyGusFSSFf",
        "outputId": "33d43a1c-df22-4cf9-b4a6-4f0521de3ac6"
      },
      "execution_count": 30,
      "outputs": [
        {
          "output_type": "stream",
          "name": "stdout",
          "text": [
            "       Variable         VIF\n",
            "0        RTA_ij    2.673464\n",
            "1         STC_i    2.458804\n",
            "2         RCA_i    2.721849\n",
            "3      ln_GDP_i  437.372881\n",
            "4      ln_GDP_j  666.572861\n",
            "5      ln_POP_i  263.137921\n",
            "6      ln_POP_j  192.872838\n",
            "7  ln_PATENTS_i    9.901425\n",
            "8    ln_DIST_ij  113.667700\n"
          ]
        }
      ]
    },
    {
      "cell_type": "code",
      "source": [
        "X_8_2 = df_8_2.drop(columns=['ln_RENEWABLE_i', 'lnTARIFF_ij+CBAM_i_49', 'lnTARIFF_ij+CBAM_i_100', 'lnTARIFF_ij+CBAM_i_150', 'year', 'i', 'j', 'X_ij', 'pi_i', 'x_j', '(lnTARIFF_ij+CBAM_i_100)*ln_PATENTS_i', '(lnTARIFF_ij+CBAM_i_150)*ln_RENEWABLE_i'])\n",
        "\n",
        "vif_8_2 = pd.DataFrame()\n",
        "vif_8_2[\"Variable\"] = X_8_2.columns\n",
        "vif_8_2[\"VIF\"] = [variance_inflation_factor(X_8_2.values, i) for i in range(X_8_2.shape[1])]\n",
        "\n",
        "print(vif_8_2)"
      ],
      "metadata": {
        "colab": {
          "base_uri": "https://localhost:8080/"
        },
        "id": "n-kb9AtkSTP-",
        "outputId": "e942ea60-ccce-42f0-b454-e3aa2ac50e2e"
      },
      "execution_count": 31,
      "outputs": [
        {
          "output_type": "stream",
          "name": "stdout",
          "text": [
            "       Variable         VIF\n",
            "0        RTA_ij    2.841345\n",
            "1         STC_i    2.775638\n",
            "2         RCA_i    2.941119\n",
            "3      ln_GDP_i  520.009458\n",
            "4      ln_GDP_j  785.548020\n",
            "5      ln_POP_i  310.026710\n",
            "6      ln_POP_j  219.795796\n",
            "7  ln_PATENTS_i   11.153873\n",
            "8    ln_DIST_ij  116.227549\n"
          ]
        }
      ]
    },
    {
      "cell_type": "markdown",
      "source": [
        "변수 제거의 문제가 아닌듯"
      ],
      "metadata": {
        "id": "IB6tlP8LUU_p"
      }
    },
    {
      "cell_type": "markdown",
      "source": [
        "# exponential 씌우고 다시 VIF"
      ],
      "metadata": {
        "id": "ZcbvidymUT-z"
      }
    },
    {
      "cell_type": "code",
      "source": [
        "e_7_1 = df_7_1.copy()\n",
        "e_7_2 = df_7_2.copy()\n",
        "e_8_1 = df_8_1.copy()\n",
        "e_8_2 = df_8_2.copy()"
      ],
      "metadata": {
        "id": "VVAmVHBNUbAJ"
      },
      "execution_count": 32,
      "outputs": []
    },
    {
      "cell_type": "code",
      "source": [
        "e_7_1['RENEWABLE_i'] = np.exp(e_7_1['ln_RENEWABLE_i'])\n",
        "e_7_1['PATENTS_i'] = np.exp(e_7_1['ln_PATENTS_i'])\n",
        "\n",
        "e_7_2['RENEWABLE_i'] = np.exp(e_7_2['ln_RENEWABLE_i'])\n",
        "e_7_2['PATENTS_i'] = np.exp(e_7_2['ln_PATENTS_i'])\n",
        "\n",
        "e_8_1['RENEWABLE_i'] = np.exp(e_8_1['ln_RENEWABLE_i'])\n",
        "e_8_1['PATENTS_i'] = np.exp(e_8_1['ln_PATENTS_i'])\n",
        "\n",
        "e_8_2['RENEWABLE_i'] = np.exp(e_8_2['ln_RENEWABLE_i'])\n",
        "e_8_2['PATENTS_i'] = np.exp(e_8_2['ln_PATENTS_i'])"
      ],
      "metadata": {
        "id": "Ny5xmUj9Uq4H"
      },
      "execution_count": 33,
      "outputs": []
    },
    {
      "cell_type": "code",
      "source": [
        "e_7_1 = e_7_1.drop(columns=['ln_RENEWABLE_i', 'ln_PATENTS_i'])\n",
        "e_7_2 = e_7_2.drop(columns=['ln_RENEWABLE_i', 'ln_PATENTS_i'])\n",
        "e_8_1 = e_8_1.drop(columns=['ln_RENEWABLE_i', 'ln_PATENTS_i'])\n",
        "e_8_2 = e_8_2.drop(columns=['ln_RENEWABLE_i', 'ln_PATENTS_i'])"
      ],
      "metadata": {
        "id": "jyr_30sbVeBu"
      },
      "execution_count": 37,
      "outputs": []
    },
    {
      "cell_type": "code",
      "source": [
        "E_7_1 = e_7_1.drop(columns=['ln_TARIFF_ij', 'year', 'i', 'j', 'X_ij', 'pi_i', 'x_j', 'ln_TARIFF_ij*ln_PATENTS_i', 'ln_TARIFF_ij*ln_RENEWABLE_i'])\n",
        "\n",
        "vif_7_1 = pd.DataFrame()\n",
        "vif_7_1[\"Variable\"] = E_7_1.columns\n",
        "vif_7_1[\"VIF\"] = [variance_inflation_factor(E_7_1.values, i) for i in range(E_7_1.shape[1])]\n",
        "\n",
        "print(vif_7_1)"
      ],
      "metadata": {
        "colab": {
          "base_uri": "https://localhost:8080/"
        },
        "id": "_6h4BTSkV8Zq",
        "outputId": "1c1b6f7d-47d8-4bde-d574-a749439372fd"
      },
      "execution_count": 38,
      "outputs": [
        {
          "output_type": "stream",
          "name": "stdout",
          "text": [
            "      Variable         VIF\n",
            "0       RTA_ij    2.655251\n",
            "1        STC_i    6.024889\n",
            "2        RCA_i    2.698713\n",
            "3     ln_GDP_i  261.458418\n",
            "4     ln_GDP_j  621.228886\n",
            "5     ln_POP_i  198.645816\n",
            "6     ln_POP_j  185.462300\n",
            "7   ln_DIST_ij  111.943503\n",
            "8  RENEWABLE_i    2.512287\n",
            "9    PATENTS_i    4.728668\n"
          ]
        }
      ]
    },
    {
      "cell_type": "markdown",
      "source": [
        "exponential 씌우고 돌리니까 숫자 매우 good"
      ],
      "metadata": {
        "id": "DEpV6wr5X7Q0"
      }
    }
  ]
}