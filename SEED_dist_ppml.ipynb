{
  "nbformat": 4,
  "nbformat_minor": 0,
  "metadata": {
    "colab": {
      "provenance": [],
      "authorship_tag": "ABX9TyO8L3i3i1nzEhft9lQD8j0G",
      "include_colab_link": true
    },
    "kernelspec": {
      "name": "python3",
      "display_name": "Python 3"
    },
    "language_info": {
      "name": "python"
    }
  },
  "cells": [
    {
      "cell_type": "markdown",
      "metadata": {
        "id": "view-in-github",
        "colab_type": "text"
      },
      "source": [
        "<a href=\"https://colab.research.google.com/github/yuhui-0611/SEED/blob/main/SEED_dist_ppml.ipynb\" target=\"_parent\"><img src=\"https://colab.research.google.com/assets/colab-badge.svg\" alt=\"Open In Colab\"/></a>"
      ]
    },
    {
      "cell_type": "code",
      "execution_count": 1,
      "metadata": {
        "id": "5EFd7ZL8YHYZ"
      },
      "outputs": [],
      "source": [
        "import pandas as pd\n",
        "import numpy as np"
      ]
    },
    {
      "cell_type": "code",
      "source": [
        "from google.colab import drive\n",
        "drive.mount('/content/drive')"
      ],
      "metadata": {
        "colab": {
          "base_uri": "https://localhost:8080/"
        },
        "id": "bR4xl7JNYORO",
        "outputId": "f3842a89-9ea1-4d54-841e-06bca2463553"
      },
      "execution_count": 2,
      "outputs": [
        {
          "output_type": "stream",
          "name": "stdout",
          "text": [
            "Mounted at /content/drive\n"
          ]
        }
      ]
    },
    {
      "cell_type": "code",
      "source": [
        "df_7_1 = pd.read_csv('/content/drive/MyDrive/SEED/데이터/df_7_1.csv')\n",
        "df_7_2 = pd.read_csv('/content/drive/MyDrive/SEED/데이터/df_7_2.csv')\n",
        "df_8_1 = pd.read_csv('/content/drive/MyDrive/SEED/데이터/df_8_1.csv')\n",
        "df_8_2 = pd.read_csv('/content/drive/MyDrive/SEED/데이터/df_8_2.csv')"
      ],
      "metadata": {
        "id": "ivt4PTjqYRyB"
      },
      "execution_count": 3,
      "outputs": []
    },
    {
      "cell_type": "markdown",
      "source": [
        "# dist에 exponential"
      ],
      "metadata": {
        "id": "C-8UUrwy7ku1"
      }
    },
    {
      "cell_type": "markdown",
      "source": [
        "ppml돌리려면 dist에 ln 씌우지 않고 그냥 돌려야 함"
      ],
      "metadata": {
        "id": "-dm_yU6g7fiR"
      }
    },
    {
      "cell_type": "code",
      "source": [
        "df_7_1.columns"
      ],
      "metadata": {
        "colab": {
          "base_uri": "https://localhost:8080/"
        },
        "id": "ZrFFPtV484ql",
        "outputId": "af7b07a6-5a00-4747-8ce1-492e42feb00e"
      },
      "execution_count": 6,
      "outputs": [
        {
          "output_type": "execute_result",
          "data": {
            "text/plain": [
              "Index(['year', 'i', 'j', 'RTA_ij', 'X_ij', 'STC_i', 'RCA_i', 'pi_i', 'x_j',\n",
              "       'ln_GDP_i', 'ln_GDP_j', 'ln_POP_i', 'ln_POP_j', 'ln_TARIFF_ij',\n",
              "       'ln_PATENTS_i', 'ln_RENEWABLE_i', 'ln_TARIFF_ij*ln_PATENTS_i',\n",
              "       'ln_TARIFF_ij*ln_RENEWABLE_i', 'ln_DIST_ij'],\n",
              "      dtype='object')"
            ]
          },
          "metadata": {},
          "execution_count": 6
        }
      ]
    },
    {
      "cell_type": "code",
      "source": [
        "df_7_1['DIST_ij'] = np.exp(df_7_1['ln_DIST_ij'])\n",
        "df_7_2['DIST_ij'] = np.exp(df_7_2['ln_DIST_ij'])\n",
        "df_8_1['DIST_ij'] = np.exp(df_8_1['ln_DIST_ij'])\n",
        "df_8_2['DIST_ij'] = np.exp(df_8_2['ln_DIST_ij'])"
      ],
      "metadata": {
        "id": "ceOdYb887nbW"
      },
      "execution_count": 7,
      "outputs": []
    },
    {
      "cell_type": "code",
      "source": [
        "df_7_1.drop(['ln_DIST_ij'], axis=1, inplace=True)\n",
        "df_7_2.drop(['ln_DIST_ij'], axis=1, inplace=True)\n",
        "df_8_1.drop(['ln_DIST_ij'], axis=1, inplace=True)\n",
        "df_8_2.drop(['ln_DIST_ij'], axis=1, inplace=True)"
      ],
      "metadata": {
        "id": "LY43yVQ69V3k"
      },
      "execution_count": 9,
      "outputs": []
    },
    {
      "cell_type": "code",
      "source": [
        "df_7_1.columns"
      ],
      "metadata": {
        "colab": {
          "base_uri": "https://localhost:8080/"
        },
        "id": "XtrtTjtE9Tto",
        "outputId": "d75bf33d-4fcb-41e1-f12a-0599b9466193"
      },
      "execution_count": 10,
      "outputs": [
        {
          "output_type": "execute_result",
          "data": {
            "text/plain": [
              "Index(['year', 'i', 'j', 'RTA_ij', 'X_ij', 'STC_i', 'RCA_i', 'pi_i', 'x_j',\n",
              "       'ln_GDP_i', 'ln_GDP_j', 'ln_POP_i', 'ln_POP_j', 'ln_TARIFF_ij',\n",
              "       'ln_PATENTS_i', 'ln_RENEWABLE_i', 'ln_TARIFF_ij*ln_PATENTS_i',\n",
              "       'ln_TARIFF_ij*ln_RENEWABLE_i', 'DIST_ij'],\n",
              "      dtype='object')"
            ]
          },
          "metadata": {},
          "execution_count": 10
        }
      ]
    },
    {
      "cell_type": "markdown",
      "source": [
        "# 저장"
      ],
      "metadata": {
        "id": "nPp70Kb-8kuZ"
      }
    },
    {
      "cell_type": "code",
      "source": [
        "df_7_1.to_csv('/content/drive/MyDrive/SEED/데이터/7_1.csv', index=False)\n",
        "df_7_2.to_csv('/content/drive/MyDrive/SEED/데이터/7_2.csv', index=False)\n",
        "df_8_1.to_csv('/content/drive/MyDrive/SEED/데이터/8_1.csv', index=False)\n",
        "df_8_2.to_csv('/content/drive/MyDrive/SEED/데이터/8_2.csv', index=False)"
      ],
      "metadata": {
        "id": "e7s9B5Kz8kRl"
      },
      "execution_count": 11,
      "outputs": []
    }
  ]
}